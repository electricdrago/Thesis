{
 "cells": [
  {
   "cell_type": "code",
   "execution_count": null,
   "metadata": {},
   "outputs": [],
   "source": [
    "import csv"
   ]
  },
  {
   "cell_type": "code",
   "execution_count": null,
   "metadata": {},
   "outputs": [],
   "source": [
    "\"\"\"\n",
    "with open('own_train_data_x.csv', mode='w') as train_x_file:\n",
    "    train_x_writer = csv.writer(train_x_file, delimiter = ',', quoting = csv.QUOTE_NONE)\n",
    "    for i in train_data['data']:\n",
    "        train_x_writer.writerow(i)\n",
    "        \n",
    "with open('own_train_data_y.csv', mode='w') as train_y_file:\n",
    "    train_y_writer = csv.writer(train_y_file, delimiter = ',', quoting = csv.QUOTE_NONE)\n",
    "    for i in train_data['target']:\n",
    "        train_y_writer.writerow([int(i)])\n",
    "        \n",
    "with open('own_test_data_x.csv', mode='w') as test_x_file:\n",
    "    test_x_writer = csv.writer(test_x_file, delimiter = ',', quoting = csv.QUOTE_NONE)\n",
    "    for i in test_data['data']:\n",
    "        test_x_writer.writerow(i)\n",
    "        \n",
    "with open('own_test_data_y.csv', mode='w') as test_y_file:\n",
    "    test_y_writer = csv.writer(test_y_file, delimiter = ',', quoting = csv.QUOTE_NONE)\n",
    "    for i in test_data['target']:\n",
    "        test_y_writer.writerow([int(i)])\n",
    "\"\"\""
   ]
  },
  {
   "cell_type": "code",
   "execution_count": null,
   "metadata": {},
   "outputs": [],
   "source": [
    "def writeInFile(name, rows):\n",
    "    with open(name, mode='w') as currFile:\n",
    "        file_writer = csv.writer(currFile, delimiter = ',', quoting = csv.QUOTE_NONE, escapechar='\\n')\n",
    "        for i in rows:\n",
    "            file_writer.writerow(i)"
   ]
  },
  {
   "cell_type": "code",
   "execution_count": null,
   "metadata": {},
   "outputs": [],
   "source": [
    "def addRowToFile(name, row):\n",
    "    with open(name, mode='a') as currFile:\n",
    "        file_writer = csv.writer(currFile, delimiter = ',', quoting = csv.QUOTE_NONE, escapechar='\\n')\n",
    "        file_writer.writerow(row)"
   ]
  }
 ],
 "metadata": {
  "kernelspec": {
   "display_name": "Python 3",
   "language": "python",
   "name": "python3"
  },
  "language_info": {
   "codemirror_mode": {
    "name": "ipython",
    "version": 3
   },
   "file_extension": ".py",
   "mimetype": "text/x-python",
   "name": "python",
   "nbconvert_exporter": "python",
   "pygments_lexer": "ipython3",
   "version": "3.7.3"
  }
 },
 "nbformat": 4,
 "nbformat_minor": 2
}
