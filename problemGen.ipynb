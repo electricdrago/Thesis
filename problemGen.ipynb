{
 "cells": [
  {
   "cell_type": "code",
   "execution_count": null,
   "metadata": {},
   "outputs": [],
   "source": []
  },
  {
   "cell_type": "code",
   "execution_count": null,
   "metadata": {},
   "outputs": [],
   "source": [
    "#random nuber generator class\n",
    "class rng():\n",
    "    def __init__(self, seed = 1234, a = 16807, b = 127773, c = 2836, mpow = 31):\n",
    "        self.seed = seed;\n",
    "        self.a = a;\n",
    "        self.b = b;\n",
    "        self.c = c;\n",
    "        self.m = pow(2, mpow)-1\n",
    "    def genNext(self):\n",
    "        k = math.floor(self.seed / self.b);\n",
    "        newseed = self.a*(self.seed%self.b)- k*self.c;\n",
    "        if newseed<0:\n",
    "            newseed = newseed+self.m;\n",
    "        self.seed = newseed;\n",
    "        return newseed/self.m\n",
    "    \n",
    "    def getBetween(self, x, y):\n",
    "        return math.floor(x + self.genNext()*(y-x+1))"
   ]
  },
  {
   "cell_type": "code",
   "execution_count": null,
   "metadata": {},
   "outputs": [],
   "source": [
    "class problemGenerator():\n",
    "    def __init__(self):\n",
    "        pass\n",
    "    \n",
    "    # n is number of jobs and each will have m operations\n",
    "    def generate_problem(self, n, m, time_seed, machine_seed, UP = 0):\n",
    "        jobs = [0]*n;\n",
    "        time_gen = rng(time_seed);\n",
    "        for i in range(n):\n",
    "            jobs[i] = [0]*m;\n",
    "            for j in range(m):\n",
    "                jobs[i][j] = time_gen.getBetween(1,99);\n",
    "        \n",
    "        \n",
    "        in_machine = [0]*n;\n",
    "        machine_gen = rng(machine_seed);\n",
    "        for i in range(n):\n",
    "            in_machine[i] = [z+1 for z in range(m)]\n",
    "            for j in range(m):\n",
    "                t = in_machine[i][j];\n",
    "                tm = machine_gen.getBetween(j,m-1)\n",
    "                in_machine[i][j] = in_machine[i][tm];\n",
    "                in_machine[i][tm] = t;\n",
    "        \n",
    "        #for i in jobs:\n",
    "         #   print(i)\n",
    "        #for j in in_machine:\n",
    "        #    print(j)\n",
    "        \n",
    "        #Getting lower bound\n",
    "        maxtime = 0;\n",
    "        sum_machines = [0]*m;\n",
    "        for i in range(n):\n",
    "            temp_sum = 0;\n",
    "            for j in range(m):\n",
    "                temp_sum+=jobs[i][j];\n",
    "                sum_machines[in_machine[i][j]-1]+=jobs[i][j];\n",
    "            if temp_sum>maxtime:\n",
    "                maxtime=temp_sum;\n",
    "        for i in sum_machines:\n",
    "            if i>maxtime:\n",
    "                maxtime=i;\n",
    "                \n",
    "        #print (\"Lower bound:\", maxtime)\n",
    "        \n",
    "        activities = [0]*n;\n",
    "        for i in range(n):\n",
    "            activities[i] = [0]*m;\n",
    "            for j in range(m):\n",
    "                activities[i][j] = (jobs[i][j], in_machine[i][j]-1);\n",
    "        source = {\"LB\" : maxtime, \"UP\" : UP, \"machines\": m, \"activities\": activities}\n",
    "        return source;"
   ]
  },
  {
   "cell_type": "code",
   "execution_count": null,
   "metadata": {},
   "outputs": [],
   "source": []
  }
 ],
 "metadata": {
  "kernelspec": {
   "display_name": "Python 3",
   "language": "python",
   "name": "python3"
  },
  "language_info": {
   "codemirror_mode": {
    "name": "ipython",
    "version": 3
   },
   "file_extension": ".py",
   "mimetype": "text/x-python",
   "name": "python",
   "nbconvert_exporter": "python",
   "pygments_lexer": "ipython3",
   "version": "3.7.3"
  }
 },
 "nbformat": 4,
 "nbformat_minor": 2
}
